{
 "cells": [
  {
   "cell_type": "code",
   "execution_count": 15,
   "id": "f8dfaf93-653b-4c25-b738-2eac4b2487ce",
   "metadata": {},
   "outputs": [],
   "source": [
    "import pandas as pd\n",
    "import networkx as nx\n",
    "from itertools import combinations\n",
    "import matplotlib.pyplot as plt\n",
    "import numpy as np"
   ]
  },
  {
   "cell_type": "code",
   "execution_count": 2,
   "id": "54db4612-c7c2-4f5a-bc5f-ec887ed5141f",
   "metadata": {},
   "outputs": [],
   "source": [
    "# Select three datasets, large, medium, and small, as required\n",
    "df_large = pd.read_csv('USERS.csv')\n",
    "df_medium = pd.read_csv('WIKIPROJECTS.csv')\n",
    "df_small = pd.read_csv('REQUESTS_FOR_COMMENT.csv')"
   ]
  },
  {
   "cell_type": "markdown",
   "id": "d5dff6bb-4572-4170-ab72-96dd2284d13a",
   "metadata": {},
   "source": [
    "Verify the size and accessibility of data"
   ]
  },
  {
   "cell_type": "code",
   "execution_count": 3,
   "id": "69a736de-2f80-4bb6-a8ed-317975d9673b",
   "metadata": {},
   "outputs": [
    {
     "name": "stdout",
     "output_type": "stream",
     "text": [
      "  thread_subject        username                          page_name\n",
      "0     No subject  Liuxinyu970226  Usertalk000accountdeleted000.json\n",
      "1     No subject      M2k~dewiki          Usertalk000selina000.json\n",
      "2     No subject        Peaceray                Usertalk001Jrm.json\n",
      "3     No subject  Liuxinyu970226             Usertalk007hemant.json\n",
      "4     No subject          ToJack           Usertalk011ZezoTito.json\n",
      "                                      thread_subject      username  \\\n",
      "0               Connect families with their members       Jneubert   \n",
      "1   Integration of {{Q|36948990}}'s country/subje...      Jneubert   \n",
      "2   Integration of {{Q|36948990}}'s country/subje...         Jura1   \n",
      "3         English Wikipedia's WikiProject Newspapers  Bluerasberry   \n",
      "4   Persons archive completed: data donation of Z...      Jneubert   \n",
      "\n",
      "                                           page_name  \n",
      "0  WikidatatalkWikiProject20thCenturyPressArchive...  \n",
      "1  WikidatatalkWikiProject20thCenturyPressArchive...  \n",
      "2  WikidatatalkWikiProject20thCenturyPressArchive...  \n",
      "3  WikidatatalkWikiProject20thCenturyPressArchive...  \n",
      "4  WikidatatalkWikiProject20thCenturyPressArchive...  \n",
      "                                      thread_subject        username  \\\n",
      "0  19830101dateofbirthvs19880000dateofbirthbothon...          Tidoni   \n",
      "1  19830101dateofbirthvs19880000dateofbirthbothon...  Matěj Suchánek   \n",
      "2  Abusefilterviewprivateandabusefilterlogprivate...   John F. Lewis   \n",
      "3  Abusefilterviewprivateandabusefilterlogprivate...     FrigidNinja   \n",
      "4  Abusefilterviewprivateandabusefilterlogprivate...       Hazard-SJ   \n",
      "\n",
      "                                           page_name  \n",
      "0  WikidataRequestsforcomment19830101dateofbirthv...  \n",
      "1  WikidataRequestsforcomment19830101dateofbirthv...  \n",
      "2  WikidataRequestsforcommentAbusefilterviewpriva...  \n",
      "3  WikidataRequestsforcommentAbusefilterviewpriva...  \n",
      "4  WikidataRequestsforcommentAbusefilterviewpriva...  \n"
     ]
    }
   ],
   "source": [
    "# data check\n",
    "print(df_large.head())\n",
    "print(df_medium.head())\n",
    "print(df_small.head())\n",
    "\n"
   ]
  },
  {
   "cell_type": "code",
   "execution_count": 4,
   "id": "d109e19b-dd9e-41dc-8726-d7ee5acd9166",
   "metadata": {},
   "outputs": [
    {
     "name": "stdout",
     "output_type": "stream",
     "text": [
      "Large Dataset:\n",
      "data size: 515076\n",
      "data shape: (171692, 3)\n",
      "Medium Dataset:\n",
      "data size: 35583\n",
      "data shape: (11861, 3)\n",
      "Small Dataset:\n",
      "data size: 8775\n",
      "data shape: (2925, 3)\n"
     ]
    }
   ],
   "source": [
    "# data check\n",
    "print('Large Dataset:')\n",
    "print('data size:', df_large.size)\n",
    "print('data shape:', df_large.shape)  # returns (rows, columns)\n",
    "print('Medium Dataset:')\n",
    "print('data size:', df_medium.size)\n",
    "print('data shape:', df_medium.shape)  # returns (rows, columns)\n",
    "print('Small Dataset:')\n",
    "print('data size:', df_small.size)\n",
    "print('data shape:', df_small.shape)  # returns (rows, columns)\n",
    "\n"
   ]
  },
  {
   "cell_type": "code",
   "execution_count": 5,
   "id": "8910c67a-feaf-4f13-84dc-c33fe3ac72df",
   "metadata": {},
   "outputs": [],
   "source": [
    "def build_editor_network(df):\n",
    "    G = nx.Graph()\n",
    "    user_ids = {}  # 存储用户对应节点编号\n",
    "    next_id = 0\n",
    "\n",
    "    # 遍历每一个话题(thread)，并建立用户之间的连接\n",
    "    grouped = df.groupby(['page_name', 'thread_subject'])\n",
    "    \n",
    "    for (page, thread), group in grouped:\n",
    "        users = group['username'].unique()\n",
    "        \n",
    "        # 为每个用户分配ID\n",
    "        for user in users:\n",
    "            if user not in user_ids:\n",
    "                user_ids[user] = next_id\n",
    "                next_id += 1\n",
    "                \n",
    "        # 为在同一页面同一线程下评论的用户建立边\n",
    "        for user_pair in combinations(users, 2):\n",
    "            u1, u2 = user_ids[user_pair[0]], user_ids[user_pair[1]]\n",
    "            if G.has_edge(u1, u2):\n",
    "                G[u1][u2]['weight'] += 1\n",
    "            else:\n",
    "                G.add_edge(u1, u2, weight=1)\n",
    "    \n",
    "    return G, user_ids\n"
   ]
  },
  {
   "cell_type": "code",
   "execution_count": 6,
   "id": "de096f90-681b-4041-a6cb-2e58d57ad8fd",
   "metadata": {},
   "outputs": [
    {
     "name": "stdout",
     "output_type": "stream",
     "text": [
      "Network info：\n",
      "节点数: 837\n",
      "边数: 27569\n",
      "网络密度: 0.078799\n"
     ]
    }
   ],
   "source": [
    "G_large, user_ids_large = build_editor_network(df_small)\n",
    "\n",
    "# 显示网络基本信息\n",
    "print(\"Network info：\")\n",
    "print(f\"节点数: {G_large.number_of_nodes()}\")\n",
    "print(f\"边数: {G_large.number_of_edges()}\")\n",
    "print(f\"网络密度: {nx.density(G_large):.6f}\")\n",
    "\n"
   ]
  },
  {
   "cell_type": "code",
   "execution_count": 7,
   "id": "ca9bfab8-0a15-4444-89fa-8eb5a786e609",
   "metadata": {},
   "outputs": [
    {
     "data": {
      "image/png": "[encoded data removed]",
      "text/plain": [
       "<Figure size 500x400 with 1 Axes>"
      ]
     },
     "metadata": {},
     "output_type": "display_data"
    }
   ],
   "source": [
    "plt.figure(figsize=(5, 4))\n",
    "nx.draw(G_large, node_size=20, alpha=0.7)\n",
    "plt.title('Large Wikidata Editor Network Visualization')\n",
    "plt.show()\n",
    "\n"
   ]
  },
  {
   "cell_type": "code",
   "execution_count": 8,
   "id": "b922129f-7de6-49cb-a52c-1317d10be679",
   "metadata": {},
   "outputs": [
    {
     "name": "stdout",
     "output_type": "stream",
     "text": [
      "网络基本指标：\n",
      "节点数: 837\n",
      "边数: 27569\n",
      "网络密度: 0.0788\n",
      "平均聚类系数: 0.8294\n"
     ]
    }
   ],
   "source": [
    "# 网络基本信息\n",
    "num_nodes = G_large.number_of_nodes()\n",
    "num_edges = G_large.number_of_edges()\n",
    "density = nx.density(G_large)\n",
    "clustering_coeff = nx.average_clustering(G_large)\n",
    "\n",
    "print(\"网络基本指标：\")\n",
    "print(f\"节点数: {num_nodes}\")\n",
    "print(f\"边数: {num_edges}\")\n",
    "print(f\"网络密度: {density:.4f}\")\n",
    "print(f\"平均聚类系数: {clustering_coeff:.4f}\")\n"
   ]
  },
  {
   "cell_type": "code",
   "execution_count": 9,
   "id": "ae90c699-a39c-49ac-9e2c-b986d551608b",
   "metadata": {},
   "outputs": [
    {
     "data": {
      "image/png": "[encoded data removed]",
      "text/plain": [
       "<Figure size 1000x600 with 1 Axes>"
      ]
     },
     "metadata": {},
     "output_type": "display_data"
    }
   ],
   "source": [
    "degrees = [degree for node, degree in G_large.degree()]\n",
    "plt.figure(figsize=(10, 6))\n",
    "plt.hist(degrees, bins=30, alpha=0.7)\n",
    "plt.xlabel('Degree')\n",
    "plt.ylabel('Frequency')\n",
    "plt.title('Degree Distribution of Large Network')\n",
    "plt.show()\n"
   ]
  },
  {
   "cell_type": "code",
   "execution_count": 10,
   "id": "93916430-3682-480b-b5e3-5da376ab6afd",
   "metadata": {},
   "outputs": [
    {
     "name": "stdout",
     "output_type": "stream",
     "text": [
      "Top 5节点的度中心性:\n",
      "节点 66: 中心性=0.5478\n",
      "节点 14: 中心性=0.5060\n",
      "节点 105: 中心性=0.5000\n",
      "节点 77: 中心性=0.4581\n",
      "节点 34: 中心性=0.4474\n"
     ]
    }
   ],
   "source": [
    "degree_centrality = nx.degree_centrality(G_large)\n",
    "\n",
    "# 展示前5个最重要的节点\n",
    "top5_nodes = sorted(degree_centrality.items(), key=lambda x: x[1], reverse=True)[:5]\n",
    "print(\"Top 5节点的度中心性:\")\n",
    "for node, centrality in top5_nodes:\n",
    "    print(f\"节点 {node}: 中心性={centrality:.4f}\")\n",
    "\n"
   ]
  },
  {
   "cell_type": "code",
   "execution_count": 11,
   "id": "c3c59924-c983-405b-baa9-a39ed492a0ef",
   "metadata": {},
   "outputs": [
    {
     "name": "stdout",
     "output_type": "stream",
     "text": [
      "平均最短路径长度: 2.0867\n",
      "网络直径: 4\n"
     ]
    }
   ],
   "source": [
    "if nx.is_connected(G_large):\n",
    "    avg_path_length = nx.average_shortest_path_length(G_large)\n",
    "    diameter = nx.diameter(G_large)\n",
    "else:\n",
    "    # 若非完全连通，只计算最大连通子图\n",
    "    largest_cc = max(nx.connected_components(G_large), key=len)\n",
    "    G_largest_cc = G_large.subgraph(largest_cc)\n",
    "    \n",
    "    avg_path_length = nx.average_shortest_path_length(G_largest_cc)\n",
    "    diameter = nx.diameter(G_largest_cc)\n",
    "\n",
    "print(f\"平均最短路径长度: {avg_path_length:.4f}\")\n",
    "print(f\"网络直径: {diameter}\")\n"
   ]
  },
  {
   "cell_type": "code",
   "execution_count": 12,
   "id": "a08a61e2-483d-4e29-ad99-c109cb4bf1d8",
   "metadata": {},
   "outputs": [
    {
     "name": "stdout",
     "output_type": "stream",
     "text": [
      "随机网络指标：\n",
      "随机网络平均聚类系数: 0.0792\n",
      "随机网络平均最短路径长度: 1.9261\n"
     ]
    }
   ],
   "source": [
    "G_random = nx.gnm_random_graph(num_nodes, num_edges)\n",
    "\n",
    "# 计算随机网络的平均聚类系数和路径长度\n",
    "random_clustering = nx.average_clustering(G_random)\n",
    "if nx.is_connected(G_random):\n",
    "    random_path_length = nx.average_shortest_path_length(G_random)\n",
    "else:\n",
    "    largest_cc_random = max(nx.connected_components(G_random), key=len)\n",
    "    G_random_cc = G_random.subgraph(largest_cc_random)\n",
    "    random_path_length = nx.average_shortest_path_length(G_random_cc)\n",
    "\n",
    "print(\"随机网络指标：\")\n",
    "print(f\"随机网络平均聚类系数: {random_clustering:.4f}\")\n",
    "print(f\"随机网络平均最短路径长度: {random_path_length:.4f}\")\n",
    "\n"
   ]
  },
  {
   "cell_type": "code",
   "execution_count": 13,
   "id": "ecd7ba54-184d-425f-af50-8c4288202072",
   "metadata": {},
   "outputs": [
    {
     "name": "stdout",
     "output_type": "stream",
     "text": [
      "                   Metric  Wikidata Network  Random Network\n",
      "0  Clustering Coefficient          0.829445        0.079171\n",
      "1     Average Path Length          2.086738        1.926100\n"
     ]
    }
   ],
   "source": [
    "\n",
    "\n",
    "comparison = pd.DataFrame({\n",
    "    \"Metric\": [\"Clustering Coefficient\", \"Average Path Length\"],\n",
    "    \"Wikidata Network\": [clustering_coeff, avg_path_length],\n",
    "    \"Random Network\": [random_clustering, random_path_length]\n",
    "})\n",
    "\n",
    "print(comparison)\n"
   ]
  },
  {
   "cell_type": "code",
   "execution_count": 16,
   "id": "23cf3fc9-f42b-4a75-857b-ea04b1bfef10",
   "metadata": {},
   "outputs": [
    {
     "name": "stdout",
     "output_type": "stream",
     "text": [
      "疑似troll的节点: [541 232]\n",
      "两个疑似节点之间的最短路径长度: 2\n",
      "路径为: [541, 195, 232]\n"
     ]
    }
   ],
   "source": [
    "suspected_trolls = np.random.choice(G_large.nodes(), 2, replace=False)\n",
    "print(\"疑似troll的节点:\", suspected_trolls)\n",
    "\n",
    "# 计算疑似troll节点之间的最短路径\n",
    "if nx.has_path(G_large, suspected_trolls[0], suspected_trolls[1]):\n",
    "    shortest_path = nx.shortest_path(G_large, suspected_trolls[0], suspected_trolls[1])\n",
    "    print(f\"两个疑似节点之间的最短路径长度: {len(shortest_path)-1}\")\n",
    "    print(\"路径为:\", shortest_path)\n",
    "else:\n",
    "    print(\"两个疑似节点之间没有直接或间接路径。\")\n"
   ]
  },
  {
   "cell_type": "code",
   "execution_count": null,
   "id": "a6079962-020f-4654-bd52-f1a7c065c243",
   "metadata": {},
   "outputs": [],
   "source": []
  }
 ],
 "metadata": {
  "kernelspec": {
   "display_name": "Python 3 (ipykernel)",
   "language": "python",
   "name": "python3"
  },
  "language_info": {
   "codemirror_mode": {
    "name": "ipython",
    "version": 3
   },
   "file_extension": ".py",
   "mimetype": "text/x-python",
   "name": "python",
   "nbconvert_exporter": "python",
   "pygments_lexer": "ipython3",
   "version": "3.12.4"
  }
 },
 "nbformat": 4,
 "nbformat_minor": 5
}
