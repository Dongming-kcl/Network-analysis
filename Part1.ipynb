{
 "cells": [
  {
   "cell_type": "code",
   "execution_count": 1,
   "id": "f8dfaf93-653b-4c25-b738-2eac4b2487ce",
   "metadata": {},
   "outputs": [],
   "source": [
    "import pandas as pd\n",
    "import networkx as nx\n",
    "from itertools import combinations\n",
    "import matplotlib.pyplot as plt\n"
   ]
  },
  {
   "cell_type": "code",
   "execution_count": 2,
   "id": "54db4612-c7c2-4f5a-bc5f-ec887ed5141f",
   "metadata": {},
   "outputs": [],
   "source": [
    "# Select three datasets, large, medium, and small, as required\n",
    "df_large = pd.read_csv('USERS.csv')\n",
    "df_medium = pd.read_csv('WIKIPROJECTS.csv')\n",
    "df_small = pd.read_csv('REQUESTS_FOR_COMMENT.csv')"
   ]
  },
  {
   "cell_type": "markdown",
   "id": "d5dff6bb-4572-4170-ab72-96dd2284d13a",
   "metadata": {},
   "source": [
    "Verify the size and accessibility of data"
   ]
  },
  {
   "cell_type": "code",
   "execution_count": 3,
   "id": "69a736de-2f80-4bb6-a8ed-317975d9673b",
   "metadata": {},
   "outputs": [
    {
     "name": "stdout",
     "output_type": "stream",
     "text": [
      "  thread_subject        username                          page_name\n",
      "0     No subject  Liuxinyu970226  Usertalk000accountdeleted000.json\n",
      "1     No subject      M2k~dewiki          Usertalk000selina000.json\n",
      "2     No subject        Peaceray                Usertalk001Jrm.json\n",
      "3     No subject  Liuxinyu970226             Usertalk007hemant.json\n",
      "4     No subject          ToJack           Usertalk011ZezoTito.json\n",
      "                                      thread_subject      username  \\\n",
      "0               Connect families with their members       Jneubert   \n",
      "1   Integration of {{Q|36948990}}'s country/subje...      Jneubert   \n",
      "2   Integration of {{Q|36948990}}'s country/subje...         Jura1   \n",
      "3         English Wikipedia's WikiProject Newspapers  Bluerasberry   \n",
      "4   Persons archive completed: data donation of Z...      Jneubert   \n",
      "\n",
      "                                           page_name  \n",
      "0  WikidatatalkWikiProject20thCenturyPressArchive...  \n",
      "1  WikidatatalkWikiProject20thCenturyPressArchive...  \n",
      "2  WikidatatalkWikiProject20thCenturyPressArchive...  \n",
      "3  WikidatatalkWikiProject20thCenturyPressArchive...  \n",
      "4  WikidatatalkWikiProject20thCenturyPressArchive...  \n",
      "                                      thread_subject        username  \\\n",
      "0  19830101dateofbirthvs19880000dateofbirthbothon...          Tidoni   \n",
      "1  19830101dateofbirthvs19880000dateofbirthbothon...  Matěj Suchánek   \n",
      "2  Abusefilterviewprivateandabusefilterlogprivate...   John F. Lewis   \n",
      "3  Abusefilterviewprivateandabusefilterlogprivate...     FrigidNinja   \n",
      "4  Abusefilterviewprivateandabusefilterlogprivate...       Hazard-SJ   \n",
      "\n",
      "                                           page_name  \n",
      "0  WikidataRequestsforcomment19830101dateofbirthv...  \n",
      "1  WikidataRequestsforcomment19830101dateofbirthv...  \n",
      "2  WikidataRequestsforcommentAbusefilterviewpriva...  \n",
      "3  WikidataRequestsforcommentAbusefilterviewpriva...  \n",
      "4  WikidataRequestsforcommentAbusefilterviewpriva...  \n"
     ]
    }
   ],
   "source": [
    "# data check\n",
    "print(df_large.head())\n",
    "print(df_medium.head())\n",
    "print(df_small.head())\n",
    "\n"
   ]
  },
  {
   "cell_type": "code",
   "execution_count": 4,
   "id": "d109e19b-dd9e-41dc-8726-d7ee5acd9166",
   "metadata": {},
   "outputs": [
    {
     "name": "stdout",
     "output_type": "stream",
     "text": [
      "Large Dataset:\n",
      "data size: 515076\n",
      "data shape: (171692, 3)\n",
      "Medium Dataset:\n",
      "data size: 35583\n",
      "data shape: (11861, 3)\n",
      "Small Dataset:\n",
      "data size: 8775\n",
      "data shape: (2925, 3)\n"
     ]
    }
   ],
   "source": [
    "# data check\n",
    "print('Large Dataset:')\n",
    "print('data size:', df_large.size)\n",
    "print('data shape:', df_large.shape)  # returns (rows, columns)\n",
    "print('Medium Dataset:')\n",
    "print('data size:', df_medium.size)\n",
    "print('data shape:', df_medium.shape)  # returns (rows, columns)\n",
    "print('Small Dataset:')\n",
    "print('data size:', df_small.size)\n",
    "print('data shape:', df_small.shape)  # returns (rows, columns)\n",
    "\n"
   ]
  },
  {
   "cell_type": "code",
   "execution_count": 6,
   "id": "8910c67a-feaf-4f13-84dc-c33fe3ac72df",
   "metadata": {},
   "outputs": [],
   "source": [
    "def build_editor_network(df):\n",
    "    G = nx.Graph()\n",
    "    user_ids = {}  # 存储用户对应节点编号\n",
    "    next_id = 0\n",
    "\n",
    "    # 遍历每一个话题(thread)，并建立用户之间的连接\n",
    "    grouped = df.groupby(['page_name', 'thread_subject'])\n",
    "    \n",
    "    for (page, thread), group in grouped:\n",
    "        users = group['username'].unique()\n",
    "        \n",
    "        # 为每个用户分配ID\n",
    "        for user in users:\n",
    "            if user not in user_ids:\n",
    "                user_ids[user] = next_id\n",
    "                next_id += 1\n",
    "                \n",
    "        # 为在同一页面同一线程下评论的用户建立边\n",
    "        for user_pair in combinations(users, 2):\n",
    "            u1, u2 = user_ids[user_pair[0]], user_ids[user_pair[1]]\n",
    "            if G.has_edge(u1, u2):\n",
    "                G[u1][u2]['weight'] += 1\n",
    "            else:\n",
    "                G.add_edge(u1, u2, weight=1)\n",
    "    \n",
    "    return G, user_ids\n"
   ]
  },
  {
   "cell_type": "code",
   "execution_count": 7,
   "id": "de096f90-681b-4041-a6cb-2e58d57ad8fd",
   "metadata": {},
   "outputs": [
    {
     "name": "stdout",
     "output_type": "stream",
     "text": [
      "Network info：\n",
      "节点数: 837\n",
      "边数: 27569\n",
      "网络密度: 0.078799\n"
     ]
    }
   ],
   "source": [
    "G_large, user_ids_large = build_editor_network(df_small)\n",
    "\n",
    "# 显示网络基本信息\n",
    "print(\"Network info：\")\n",
    "print(f\"节点数: {G_large.number_of_nodes()}\")\n",
    "print(f\"边数: {G_large.number_of_edges()}\")\n",
    "print(f\"网络密度: {nx.density(G_large):.6f}\")\n",
    "\n"
   ]
  },
  {
   "cell_type": "code",
   "execution_count": 8,
   "id": "ca9bfab8-0a15-4444-89fa-8eb5a786e609",
   "metadata": {},
   "outputs": [
    {
     "data": {
      "image/png": "[encoded data removed]",
      "text/plain": [
       "<Figure size 500x400 with 1 Axes>"
      ]
     },
     "metadata": {},
     "output_type": "display_data"
    }
   ],
   "source": [
    "plt.figure(figsize=(5, 4))\n",
    "nx.draw(G_large, node_size=20, alpha=0.7)\n",
    "plt.title('Large Wikidata Editor Network Visualization')\n",
    "plt.show()\n",
    "\n"
   ]
  },
  {
   "cell_type": "code",
   "execution_count": null,
   "id": "b922129f-7de6-49cb-a52c-1317d10be679",
   "metadata": {},
   "outputs": [],
   "source": []
  }
 ],
 "metadata": {
  "kernelspec": {
   "display_name": "Python 3 (ipykernel)",
   "language": "python",
   "name": "python3"
  },
  "language_info": {
   "codemirror_mode": {
    "name": "ipython",
    "version": 3
   },
   "file_extension": ".py",
   "mimetype": "text/x-python",
   "name": "python",
   "nbconvert_exporter": "python",
   "pygments_lexer": "ipython3",
   "version": "3.12.4"
  }
 },
 "nbformat": 4,
 "nbformat_minor": 5
}
